{
 "cells": [
  {
   "cell_type": "code",
   "execution_count": 1,
   "id": "126b9846",
   "metadata": {},
   "outputs": [
    {
     "name": "stderr",
     "output_type": "stream",
     "text": [
      "/home/brocoleta/.local/lib/python3.9/site-packages/pandas/compat/__init__.py:124: UserWarning: Could not import the lzma module. Your installed Python is incomplete. Attempting to use lzma compression will result in a RuntimeError.\n",
      "  warnings.warn(msg)\n"
     ]
    }
   ],
   "source": [
    "import requests\n",
    "import random\n",
    "import pandas as pd \n",
    "from tqdm import tqdm\n",
    "from bs4  import BeautifulSoup\n",
    "from cred import YOUR_API_KEY\n",
    "import json \n",
    "from tqdm import tqdm\n",
    "import time\n",
    "\n",
    "import ast"
   ]
  },
  {
   "cell_type": "code",
   "execution_count": 2,
   "id": "87d0aac7",
   "metadata": {},
   "outputs": [],
   "source": [
    "YOUR_API_KEY = YOUR_API_KEY"
   ]
  },
  {
   "cell_type": "code",
   "execution_count": 3,
   "id": "81d9cec3",
   "metadata": {},
   "outputs": [],
   "source": [
    "df = pd.read_csv('precios_de_combustibles.csv')"
   ]
  },
  {
   "cell_type": "code",
   "execution_count": 4,
   "id": "6c7c38c4",
   "metadata": {},
   "outputs": [
    {
     "data": {
      "text/plain": [
       "array(['BOGOTA  D.C.'], dtype=object)"
      ]
     },
     "execution_count": 4,
     "metadata": {},
     "output_type": "execute_result"
    }
   ],
   "source": [
    "df['Municipio'].unique()"
   ]
  },
  {
   "cell_type": "markdown",
   "id": "2869c9b2",
   "metadata": {},
   "source": [
    "# Clean Data "
   ]
  },
  {
   "cell_type": "code",
   "execution_count": 5,
   "id": "1c2e4461",
   "metadata": {},
   "outputs": [
    {
     "data": {
      "text/plain": [
       "2"
      ]
     },
     "execution_count": 5,
     "metadata": {},
     "output_type": "execute_result"
    }
   ],
   "source": [
    "df[df['Periodo']==2022]['Mes'].max()"
   ]
  },
  {
   "cell_type": "code",
   "execution_count": 6,
   "id": "faca0bf0",
   "metadata": {},
   "outputs": [],
   "source": [
    "df3 =  df[(df['Periodo']==2022)]"
   ]
  },
  {
   "cell_type": "code",
   "execution_count": 7,
   "id": "a5e4b369",
   "metadata": {},
   "outputs": [
    {
     "data": {
      "text/plain": [
       "1368"
      ]
     },
     "execution_count": 7,
     "metadata": {},
     "output_type": "execute_result"
    }
   ],
   "source": [
    "len(df3)"
   ]
  },
  {
   "cell_type": "code",
   "execution_count": 8,
   "id": "c5ad2d58",
   "metadata": {},
   "outputs": [
    {
     "data": {
      "text/plain": [
       "array(['BOGOTA  D.C.'], dtype=object)"
      ]
     },
     "execution_count": 8,
     "metadata": {},
     "output_type": "execute_result"
    }
   ],
   "source": [
    "df3['Municipio'].unique()"
   ]
  },
  {
   "cell_type": "code",
   "execution_count": 9,
   "id": "69a4db59",
   "metadata": {},
   "outputs": [],
   "source": [
    "df3['Dir2'] = df3['Direccion'].apply(lambda x : x.replace('#','No'))\n",
    "df3['Full_Address'] = df3.apply(lambda x : x['Direccion'] + ', ' + x['Municipio'].capitalize() + ', Colombia' , axis = 1)"
   ]
  },
  {
   "cell_type": "code",
   "execution_count": 10,
   "id": "7cf00a9c",
   "metadata": {},
   "outputs": [
    {
     "data": {
      "text/plain": [
       "376"
      ]
     },
     "execution_count": 10,
     "metadata": {},
     "output_type": "execute_result"
    }
   ],
   "source": [
    "df3['Full_Address'].nunique()"
   ]
  },
  {
   "cell_type": "code",
   "execution_count": 11,
   "id": "cb0b3cf9",
   "metadata": {},
   "outputs": [
    {
     "data": {
      "text/plain": [
       "'AVENIDA CARRERA 7 No. 123A-48, Bogota  d.c., Colombia'"
      ]
     },
     "execution_count": 11,
     "metadata": {},
     "output_type": "execute_result"
    }
   ],
   "source": [
    "df3['Full_Address'][0]"
   ]
  },
  {
   "cell_type": "code",
   "execution_count": 12,
   "id": "1e0e14cb",
   "metadata": {},
   "outputs": [],
   "source": [
    "estaciones =  df3[['Nombre_comercial','Direccion','Full_Address']].drop_duplicates(subset = 'Nombre_comercial')\n",
    "estaciones.reset_index(inplace = True)\n",
    "estaciones.drop(columns = 'index',inplace = True)"
   ]
  },
  {
   "cell_type": "code",
   "execution_count": 13,
   "id": "8e475671",
   "metadata": {},
   "outputs": [
    {
     "data": {
      "text/plain": [
       "'AVENIDA CARRERA 7 No. 123A-48, Bogota  d.c., Colombia'"
      ]
     },
     "execution_count": 13,
     "metadata": {},
     "output_type": "execute_result"
    }
   ],
   "source": [
    "estaciones['Full_Address'][0]"
   ]
  },
  {
   "cell_type": "code",
   "execution_count": 14,
   "id": "a02b33c7",
   "metadata": {},
   "outputs": [],
   "source": [
    "address = estaciones['Full_Address'][0]\n",
    "url = f'https://geocode.search.hereapi.com/v1/geocode?q={address}&apiKey={YOUR_API_KEY}'\n",
    "response = requests.get(url).json()"
   ]
  },
  {
   "cell_type": "code",
   "execution_count": 15,
   "id": "2ec7336c",
   "metadata": {},
   "outputs": [],
   "source": [
    "def Get_Coords(address,YOUR_API_KEY):\n",
    "    \n",
    "    url = f'https://geocode.search.hereapi.com/v1/geocode?q={address}&apiKey={YOUR_API_KEY}'\n",
    "    \n",
    "    try : \n",
    "        \n",
    "        response = requests.get(url).json()\n",
    "        CleanAddress = response['items'][0]['title'].upper()\n",
    "        LAT = response['items'][0]['position']['lat']\n",
    "        LNG = response['items'][0]['position']['lng']\n",
    "        \n",
    "        results = [CleanAddress,LAT,LNG]\n",
    "        \n",
    "    except :\n",
    "        \n",
    "        results = ['Not Found','NA','NA']\n",
    "        \n",
    "    \n",
    "    return results "
   ]
  },
  {
   "cell_type": "code",
   "execution_count": 16,
   "id": "a8c7acee",
   "metadata": {},
   "outputs": [
    {
     "data": {
      "text/plain": [
       "['AVENIDA CARRERA 7 123A-48, 110111 BOGOTÁ, D.C., COLOMBIA',\n",
       " 4.69921,\n",
       " -74.02878]"
      ]
     },
     "execution_count": 16,
     "metadata": {},
     "output_type": "execute_result"
    }
   ],
   "source": [
    "Get_Coords(address,YOUR_API_KEY)"
   ]
  },
  {
   "cell_type": "markdown",
   "id": "e3badb91",
   "metadata": {},
   "source": [
    "# Extracción de coordenadas "
   ]
  },
  {
   "cell_type": "code",
   "execution_count": 17,
   "id": "6421b985",
   "metadata": {},
   "outputs": [
    {
     "name": "stderr",
     "output_type": "stream",
     "text": [
      "  0%|\u001b[32m          \u001b[0m| 0/376 [00:00<?, ?it/s]"
     ]
    },
    {
     "name": "stderr",
     "output_type": "stream",
     "text": [
      "100%|\u001b[32m██████████\u001b[0m| 376/376 [17:02<00:00,  2.72s/it]\n"
     ]
    }
   ],
   "source": [
    "coordenadas = []\n",
    "tiempo = [1,2,2.5]\n",
    "\n",
    "for i in tqdm(range(len(estaciones['Full_Address'])),colour = 'green'):\n",
    "    \n",
    "    try :\n",
    "        \n",
    "        R = Get_Coords(estaciones['Full_Address'][i],YOUR_API_KEY)\n",
    "        geo_source = R[1],R[2]\n",
    "        coordenadas.append(geo_source)\n",
    "        \n",
    "    except :\n",
    "        \n",
    "        coordenadas.append('Error')\n",
    "        \n",
    "    \n",
    "    time.sleep(random.choices(tiempo)[0])\n",
    "    \n",
    "        "
   ]
  },
  {
   "cell_type": "code",
   "execution_count": 25,
   "id": "8dcdd207",
   "metadata": {},
   "outputs": [],
   "source": [
    "estaciones['Coords'] = coordenadas"
   ]
  },
  {
   "cell_type": "code",
   "execution_count": 26,
   "id": "e41642f7",
   "metadata": {},
   "outputs": [
    {
     "data": {
      "text/plain": [
       "1368"
      ]
     },
     "execution_count": 26,
     "metadata": {},
     "output_type": "execute_result"
    }
   ],
   "source": [
    "len(df3)"
   ]
  },
  {
   "cell_type": "code",
   "execution_count": 27,
   "id": "379c95f1",
   "metadata": {},
   "outputs": [
    {
     "data": {
      "text/html": [
       "<div>\n",
       "<style scoped>\n",
       "    .dataframe tbody tr th:only-of-type {\n",
       "        vertical-align: middle;\n",
       "    }\n",
       "\n",
       "    .dataframe tbody tr th {\n",
       "        vertical-align: top;\n",
       "    }\n",
       "\n",
       "    .dataframe thead th {\n",
       "        text-align: right;\n",
       "    }\n",
       "</style>\n",
       "<table border=\"1\" class=\"dataframe\">\n",
       "  <thead>\n",
       "    <tr style=\"text-align: right;\">\n",
       "      <th></th>\n",
       "      <th>Nombre_comercial</th>\n",
       "      <th>Direccion</th>\n",
       "      <th>Full_Address</th>\n",
       "      <th>Coords</th>\n",
       "    </tr>\n",
       "  </thead>\n",
       "  <tbody>\n",
       "    <tr>\n",
       "      <th>0</th>\n",
       "      <td>SUPER ESTACION DE SERVICIO TEXACO 10</td>\n",
       "      <td>AVENIDA CARRERA 7 No. 123A-48</td>\n",
       "      <td>AVENIDA CARRERA 7 No. 123A-48, Bogota  d.c., C...</td>\n",
       "      <td>(4.69921, -74.02878)</td>\n",
       "    </tr>\n",
       "    <tr>\n",
       "      <th>1</th>\n",
       "      <td>ESTACION DE SERVICIO ROXI</td>\n",
       "      <td>Carrera 24  No 7-11</td>\n",
       "      <td>Carrera 24  No 7-11, Bogota  d.c., Colombia</td>\n",
       "      <td>(4.60425, -74.09239)</td>\n",
       "    </tr>\n",
       "  </tbody>\n",
       "</table>\n",
       "</div>"
      ],
      "text/plain": [
       "                       Nombre_comercial                      Direccion  \\\n",
       "0  SUPER ESTACION DE SERVICIO TEXACO 10  AVENIDA CARRERA 7 No. 123A-48   \n",
       "1             ESTACION DE SERVICIO ROXI            Carrera 24  No 7-11   \n",
       "\n",
       "                                        Full_Address                Coords  \n",
       "0  AVENIDA CARRERA 7 No. 123A-48, Bogota  d.c., C...  (4.69921, -74.02878)  \n",
       "1        Carrera 24  No 7-11, Bogota  d.c., Colombia  (4.60425, -74.09239)  "
      ]
     },
     "execution_count": 27,
     "metadata": {},
     "output_type": "execute_result"
    }
   ],
   "source": [
    "estaciones.head(2)"
   ]
  },
  {
   "cell_type": "code",
   "execution_count": 28,
   "id": "7ce19248",
   "metadata": {},
   "outputs": [],
   "source": [
    "df_final = pd.merge(df3,estaciones[['Full_Address','Coords']],how = 'inner' , on = 'Full_Address')"
   ]
  },
  {
   "cell_type": "code",
   "execution_count": 29,
   "id": "23c3fe1a",
   "metadata": {},
   "outputs": [
    {
     "data": {
      "text/html": [
       "<div>\n",
       "<style scoped>\n",
       "    .dataframe tbody tr th:only-of-type {\n",
       "        vertical-align: middle;\n",
       "    }\n",
       "\n",
       "    .dataframe tbody tr th {\n",
       "        vertical-align: top;\n",
       "    }\n",
       "\n",
       "    .dataframe thead th {\n",
       "        text-align: right;\n",
       "    }\n",
       "</style>\n",
       "<table border=\"1\" class=\"dataframe\">\n",
       "  <thead>\n",
       "    <tr style=\"text-align: right;\">\n",
       "      <th></th>\n",
       "      <th>Periodo</th>\n",
       "      <th>Mes</th>\n",
       "      <th>Codigo_departamento</th>\n",
       "      <th>Departamento</th>\n",
       "      <th>Codigo_municipio</th>\n",
       "      <th>Municipio</th>\n",
       "      <th>Nombre_comercial</th>\n",
       "      <th>Bandera</th>\n",
       "      <th>Direccion</th>\n",
       "      <th>Producto</th>\n",
       "      <th>Precio</th>\n",
       "      <th>Estado</th>\n",
       "      <th>Dir2</th>\n",
       "      <th>Full_Address</th>\n",
       "      <th>Coords</th>\n",
       "    </tr>\n",
       "  </thead>\n",
       "  <tbody>\n",
       "    <tr>\n",
       "      <th>0</th>\n",
       "      <td>2022</td>\n",
       "      <td>2</td>\n",
       "      <td>11</td>\n",
       "      <td>BOGOTA D.C.</td>\n",
       "      <td>11001</td>\n",
       "      <td>BOGOTA  D.C.</td>\n",
       "      <td>SUPER ESTACION DE SERVICIO TEXACO 10</td>\n",
       "      <td>TEXACO</td>\n",
       "      <td>AVENIDA CARRERA 7 No. 123A-48</td>\n",
       "      <td>GASOLINA CORRIENTE OXIGENADA</td>\n",
       "      <td>9860</td>\n",
       "      <td>A</td>\n",
       "      <td>AVENIDA CARRERA 7 No. 123A-48</td>\n",
       "      <td>AVENIDA CARRERA 7 No. 123A-48, Bogota  d.c., C...</td>\n",
       "      <td>(4.69921, -74.02878)</td>\n",
       "    </tr>\n",
       "    <tr>\n",
       "      <th>1</th>\n",
       "      <td>2022</td>\n",
       "      <td>2</td>\n",
       "      <td>11</td>\n",
       "      <td>BOGOTA D.C.</td>\n",
       "      <td>11001</td>\n",
       "      <td>BOGOTA  D.C.</td>\n",
       "      <td>SUPER ESTACION DE SERVICIO TEXACO 10</td>\n",
       "      <td>TEXACO</td>\n",
       "      <td>AVENIDA CARRERA 7 No. 123A-48</td>\n",
       "      <td>BIODIESEL EXTRA</td>\n",
       "      <td>9780</td>\n",
       "      <td>A</td>\n",
       "      <td>AVENIDA CARRERA 7 No. 123A-48</td>\n",
       "      <td>AVENIDA CARRERA 7 No. 123A-48, Bogota  d.c., C...</td>\n",
       "      <td>(4.69921, -74.02878)</td>\n",
       "    </tr>\n",
       "    <tr>\n",
       "      <th>2</th>\n",
       "      <td>2022</td>\n",
       "      <td>2</td>\n",
       "      <td>11</td>\n",
       "      <td>BOGOTA D.C.</td>\n",
       "      <td>11001</td>\n",
       "      <td>BOGOTA  D.C.</td>\n",
       "      <td>SUPER ESTACION DE SERVICIO TEXACO 10</td>\n",
       "      <td>TEXACO</td>\n",
       "      <td>AVENIDA CARRERA 7 No. 123A-48</td>\n",
       "      <td>GASOLINA EXTRA OXIGENADA</td>\n",
       "      <td>17250</td>\n",
       "      <td>A</td>\n",
       "      <td>AVENIDA CARRERA 7 No. 123A-48</td>\n",
       "      <td>AVENIDA CARRERA 7 No. 123A-48, Bogota  d.c., C...</td>\n",
       "      <td>(4.69921, -74.02878)</td>\n",
       "    </tr>\n",
       "  </tbody>\n",
       "</table>\n",
       "</div>"
      ],
      "text/plain": [
       "   Periodo  Mes  Codigo_departamento Departamento  Codigo_municipio  \\\n",
       "0     2022    2                   11  BOGOTA D.C.             11001   \n",
       "1     2022    2                   11  BOGOTA D.C.             11001   \n",
       "2     2022    2                   11  BOGOTA D.C.             11001   \n",
       "\n",
       "      Municipio                      Nombre_comercial Bandera  \\\n",
       "0  BOGOTA  D.C.  SUPER ESTACION DE SERVICIO TEXACO 10  TEXACO   \n",
       "1  BOGOTA  D.C.  SUPER ESTACION DE SERVICIO TEXACO 10  TEXACO   \n",
       "2  BOGOTA  D.C.  SUPER ESTACION DE SERVICIO TEXACO 10  TEXACO   \n",
       "\n",
       "                       Direccion                      Producto  Precio Estado  \\\n",
       "0  AVENIDA CARRERA 7 No. 123A-48  GASOLINA CORRIENTE OXIGENADA    9860      A   \n",
       "1  AVENIDA CARRERA 7 No. 123A-48               BIODIESEL EXTRA    9780      A   \n",
       "2  AVENIDA CARRERA 7 No. 123A-48      GASOLINA EXTRA OXIGENADA   17250      A   \n",
       "\n",
       "                            Dir2  \\\n",
       "0  AVENIDA CARRERA 7 No. 123A-48   \n",
       "1  AVENIDA CARRERA 7 No. 123A-48   \n",
       "2  AVENIDA CARRERA 7 No. 123A-48   \n",
       "\n",
       "                                        Full_Address                Coords  \n",
       "0  AVENIDA CARRERA 7 No. 123A-48, Bogota  d.c., C...  (4.69921, -74.02878)  \n",
       "1  AVENIDA CARRERA 7 No. 123A-48, Bogota  d.c., C...  (4.69921, -74.02878)  \n",
       "2  AVENIDA CARRERA 7 No. 123A-48, Bogota  d.c., C...  (4.69921, -74.02878)  "
      ]
     },
     "execution_count": 29,
     "metadata": {},
     "output_type": "execute_result"
    }
   ],
   "source": [
    "df_final.head(3)"
   ]
  },
  {
   "cell_type": "code",
   "execution_count": 30,
   "id": "074390ab",
   "metadata": {},
   "outputs": [],
   "source": [
    "df_final = pd.merge(df3,estaciones[['Full_Address','Coords']],how = 'inner' , on = 'Full_Address')"
   ]
  },
  {
   "cell_type": "code",
   "execution_count": 31,
   "id": "7a4810c4",
   "metadata": {},
   "outputs": [],
   "source": [
    "df_final.to_csv('DATASET_FINAL.csv',index = False)"
   ]
  }
 ],
 "metadata": {
  "kernelspec": {
   "display_name": "Python 3",
   "language": "python",
   "name": "python3"
  },
  "language_info": {
   "codemirror_mode": {
    "name": "ipython",
    "version": 3
   },
   "file_extension": ".py",
   "mimetype": "text/x-python",
   "name": "python",
   "nbconvert_exporter": "python",
   "pygments_lexer": "ipython3",
   "version": "3.9.1"
  }
 },
 "nbformat": 4,
 "nbformat_minor": 5
}
